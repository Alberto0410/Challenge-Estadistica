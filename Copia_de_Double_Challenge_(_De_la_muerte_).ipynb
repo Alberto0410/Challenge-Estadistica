{
  "cells": [
    {
      "cell_type": "markdown",
      "metadata": {
        "id": "j9IYoI-stvwy"
      },
      "source": [
        "De acuerdo al cuestionario del lunes, ustedes respondieron \"Respuestas\", usando Respuestas y Random_nums responde la siguientes preguntas"
      ]
    },
    {
      "cell_type": "code",
      "execution_count": 1,
      "metadata": {
        "id": "0XYwXRxLW2d4"
      },
      "outputs": [],
      "source": [
        "import random\n",
        "import numpy as np\n",
        "import pandas as pd\n",
        "import seaborn as sns"
      ]
    },
    {
      "cell_type": "code",
      "execution_count": 2,
      "metadata": {
        "colab": {
          "base_uri": "https://localhost:8080/"
        },
        "id": "u2DApfBFtT0p",
        "outputId": "ec8b681d-2633-4991-81ae-b9cd3302c57c"
      },
      "outputs": [
        {
          "name": "stdout",
          "output_type": "stream",
          "text": [
            "30 28\n"
          ]
        }
      ],
      "source": [
        "respuestas = [\"6\",\"pi\",\"Lentes\",\"5\",\"8\",\"11\",\n",
        "              \"10000000\",\"3.1416\",\"1\",\"8\",\"53\",\n",
        "              \"58\",\"5\",\"raízde2\",\"8\",\"99\",\"$\",\n",
        "              \"Pi\",\"6\",\"9\",\"10\",\"7\",\".-.\",\"11\",\n",
        "              \"70\",\"13\",\"10\",\"28\",\"159\",\"37\"]\n",
        "\n",
        "#Lo convertimos a Series para poder usar expresiones regualres\n",
        "respuestas = pd.Series(respuestas)\n",
        "respuestas_num = respuestas.copy()\n",
        "\n",
        "#Extraemos los numeros de la lista respuestas\n",
        "respuestas_num = respuestas_num.str.extract(r'(\\d+)').dropna()[0]\n",
        "respuestas_num = list(respuestas_num)\n",
        "\n",
        "#Buscamos en la lista 'respuestas' si hubo personas que contestaron 'pi' o 'raízde2'\n",
        "for num in respuestas:\n",
        "  if num.lower() == 'pi':\n",
        "    respuestas_num.append('3.1416') \n",
        "\n",
        "  if num.lower() == 'raízde2' or num.lower() == 'raizde2':\n",
        "    respuestas_num.append('1.4')\n",
        "\n",
        "#Imprimimos la longitud de la lista original y la lista que contiene unicamente numeros\n",
        "print(len(respuestas), len(respuestas_num))\n"
      ]
    },
    {
      "cell_type": "markdown",
      "metadata": {},
      "source": [
        "Vemos que las longitudes difieren en dos unidades debido a que en la lista 'respuestas' hay dos valores que no son números, los cuales son **$** y **.-.** "
      ]
    },
    {
      "cell_type": "code",
      "execution_count": 3,
      "metadata": {
        "colab": {
          "base_uri": "https://localhost:8080/"
        },
        "id": "1LFqNNRrifS4",
        "outputId": "6eda9cc1-e95b-4444-e74a-7ffcd11cb571"
      },
      "outputs": [
        {
          "data": {
            "text/plain": [
              "58"
            ]
          },
          "execution_count": 3,
          "metadata": {},
          "output_type": "execute_result"
        }
      ],
      "source": [
        "np.random.seed(42)\n",
        "\n",
        "random_nums = np.random.randint(0,10000000,len(respuestas))\n",
        "random_nums = list(random_nums)\n",
        "\n",
        "#Unimos ambas listas e imprimimos la longitud para verificar que se hizo correctamente\n",
        "respuestas_num.extend(random_nums)\n",
        "len(respuestas_num)"
      ]
    },
    {
      "cell_type": "markdown",
      "metadata": {
        "id": "KMaA3slMt2WK"
      },
      "source": [
        "Hipótesis: La mediana de esos números es 10.\n",
        "\n",
        "Usando boostraping ¿qué nivel de confianza debes usar para que se acepte la hipótesis?"
      ]
    },
    {
      "cell_type": "code",
      "execution_count": 4,
      "metadata": {
        "id": "C-9qnLS1t1Tl"
      },
      "outputs": [
        {
          "name": "stdout",
          "output_type": "stream",
          "text": [
            "9.25 5950674.25\n"
          ]
        }
      ],
      "source": [
        "respuestas_num = pd.Series(respuestas_num)\n",
        "respuestas_num = respuestas_num.astype('float')\n",
        "\n",
        "#Vamos a hacer boostraping\n",
        "medianas = []\n",
        "\n",
        "#Vamos a tomar 10000 muestras aleatorias que representan el 80% \n",
        "for i in range(10000):\n",
        "    muestra = respuestas_num.sample(frac = 0.8)\n",
        "    medianas.append(muestra.median())\n",
        "\n",
        "#Una vez con la lista de medianas, calculamos el intervalo del 50% de confianza\n",
        "inf = np.percentile(respuestas_num, 25)\n",
        "sup = np.percentile(respuestas_num, 75)\n",
        "\n",
        "print(inf, sup)\n"
      ]
    },
    {
      "cell_type": "markdown",
      "metadata": {},
      "source": [
        "Se debe de usar un nivel de confianza del 50%"
      ]
    },
    {
      "cell_type": "markdown",
      "metadata": {
        "id": "qkYATq1-CcfX"
      },
      "source": [
        "# Obten los siguientes estadísticos\n",
        "\n",
        "Media **3152385.3048827588**\n",
        "\n",
        "Mediana **683053.5**\n",
        "\n",
        "Desviación est. **3696689.2509783013**\n",
        "\n",
        "Min **1.0** \n",
        "\n",
        "Max **10000000.0**"
      ]
    },
    {
      "cell_type": "code",
      "execution_count": 5,
      "metadata": {
        "colab": {
          "base_uri": "https://localhost:8080/"
        },
        "id": "tb6NKkL3Cbd7",
        "outputId": "5868f629-02f1-454c-d0ea-d9d79c32ba4c"
      },
      "outputs": [
        {
          "name": "stdout",
          "output_type": "stream",
          "text": [
            "3152385.3048827588 683053.5 3696689.2509783013 1.0 10000000.0\n"
          ]
        }
      ],
      "source": [
        "media = respuestas_num.mean()\n",
        "mediana = respuestas_num.median()\n",
        "desv = respuestas_num.std()\n",
        "min = respuestas_num.min()\n",
        "max = respuestas_num.max()\n",
        "\n",
        "print(media, mediana, desv, min, max)"
      ]
    },
    {
      "cell_type": "markdown",
      "metadata": {
        "id": "2ZI01M-XCwbG"
      },
      "source": [
        "# Outliers\n",
        "\n",
        "Utilizando el z-score y el rango intercuartil, ¿Cuáles son los outiers de los datos? Grafícalo con un diagrama de caja"
      ]
    },
    {
      "cell_type": "code",
      "execution_count": 6,
      "metadata": {
        "colab": {
          "base_uri": "https://localhost:8080/",
          "height": 353
        },
        "id": "baLBiasNDNfZ",
        "outputId": "d3ee2d30-cf8c-4183-940b-07f2fa6992bd"
      },
      "outputs": [
        {
          "name": "stderr",
          "output_type": "stream",
          "text": [
            "C:\\Users\\PC\\AppData\\Roaming\\Python\\Python310\\site-packages\\seaborn\\_decorators.py:36: FutureWarning: Pass the following variable as a keyword arg: x. From version 0.12, the only valid positional argument will be `data`, and passing other arguments without an explicit keyword will result in an error or misinterpretation.\n",
            "  warnings.warn(\n"
          ]
        },
        {
          "data": {
            "text/plain": [
              "<AxesSubplot:>"
            ]
          },
          "execution_count": 6,
          "metadata": {},
          "output_type": "execute_result"
        },
        {
          "data": {
            "image/png": "[encoded data removed]",
            "text/plain": [
              "<Figure size 432x288 with 1 Axes>"
            ]
          },
          "metadata": {
            "needs_background": "light"
          },
          "output_type": "display_data"
        }
      ],
      "source": [
        "sns.boxplot(respuestas_num)"
      ]
    },
    {
      "cell_type": "markdown",
      "metadata": {
        "id": "H6dGD4yEcnJh"
      },
      "source": [
        "# Rango intercuartil"
      ]
    },
    {
      "cell_type": "code",
      "execution_count": 7,
      "metadata": {
        "colab": {
          "base_uri": "https://localhost:8080/"
        },
        "id": "Q-uBh5fBXz7-",
        "outputId": "c1b8eaa1-a92c-4af4-a625-898d87c177bd"
      },
      "outputs": [
        {
          "name": "stdout",
          "output_type": "stream",
          "text": [
            "(-8925988.25, 14876671.75)\n"
          ]
        }
      ],
      "source": [
        "IQR = np.percentile(respuestas_num,75)-np.percentile(respuestas_num,25)\n",
        "IQR_15 = 1.5*IQR\n",
        "\n",
        "#Imprimimos el rango intercuartil\n",
        "print((np.percentile(respuestas_num,25)-IQR_15,np.percentile(respuestas_num,75)+IQR_15))\n",
        "\n",
        "inf = -2238347.5\n",
        "sup = 15321370.5\n",
        "\n",
        "#Imprimimos los outliers\n",
        "for numero in respuestas_num:\n",
        "  if numero < inf or numero > sup:\n",
        "    print(numero)"
      ]
    },
    {
      "cell_type": "markdown",
      "metadata": {
        "id": "CXuwT9OSd0IW"
      },
      "source": [
        "# Z-Score"
      ]
    },
    {
      "cell_type": "code",
      "execution_count": 8,
      "metadata": {
        "colab": {
          "base_uri": "https://localhost:8080/"
        },
        "id": "FOO_AUgCd1h7",
        "outputId": "15910c3e-cb35-48f5-8978-e387682ac928"
      },
      "outputs": [
        {
          "name": "stdout",
          "output_type": "stream",
          "text": [
            "[]\n"
          ]
        }
      ],
      "source": [
        "#Establecemos el umbral\n",
        "umbral = 2.0\n",
        "#Lista donde estaran los outliers\n",
        "outlier = []\n",
        "\n",
        "\n",
        "for i in random_nums:\n",
        "    #Normalizamos y verificamos si es normal o es outlier\n",
        "    z = (i-media)/desv\n",
        "    if z > umbral or z < - umbral:\n",
        "        outlier.append(i)\n",
        "print(outlier)"
      ]
    },
    {
      "cell_type": "markdown",
      "metadata": {},
      "source": [
        "En ambas pruebas obruvimos que no hay ningun outier en la muestra"
      ]
    },
    {
      "cell_type": "markdown",
      "metadata": {
        "id": "71Ju6RTHDagK"
      },
      "source": [
        "Pregunta Extra (usnado p-value): ¿Si lanzo una moneda 6 veces y las 6 veces sale \"Águila\", es un evento \"normal\"?"
      ]
    },
    {
      "cell_type": "markdown",
      "metadata": {},
      "source": [
        "# Respuesta\n",
        "\n",
        "La probabilidad de que salga 6 veces águila es $\\frac{1}{64}$ ya que hay 64 posibles resultados y solo hay un caso favorable\n",
        "\n",
        "El único evento que tiene esa misma probabilidad es cuando hay 6 soles seguidos, pues hay 64 posibles resultados y solo un caso favorable\n",
        "\n",
        "Sumando las probabilidades obtenemos $\\frac{1}{32} = 0.03125$ y como el resultado obtenido es menor que $0.05$ entonces concluimos que no es un envento \"normal\""
      ]
    },
    {
      "cell_type": "code",
      "execution_count": null,
      "metadata": {
        "id": "6z0231zDwN1V"
      },
      "outputs": [],
      "source": []
    }
  ],
  "metadata": {
    "colab": {
      "collapsed_sections": [],
      "name": "Copia de Double_Challenge_(\"De la muerte\").ipynb",
      "provenance": []
    },
    "kernelspec": {
      "display_name": "Python 3.10.2 64-bit",
      "language": "python",
      "name": "python3"
    },
    "language_info": {
      "codemirror_mode": {
        "name": "ipython",
        "version": 3
      },
      "file_extension": ".py",
      "mimetype": "text/x-python",
      "name": "python",
      "nbconvert_exporter": "python",
      "pygments_lexer": "ipython3",
      "version": "3.10.2"
    },
    "vscode": {
      "interpreter": {
        "hash": "26de051ba29f2982a8de78e945f0abaf191376122a1563185a90213a26c5da77"
      }
    }
  },
  "nbformat": 4,
  "nbformat_minor": 0
}
